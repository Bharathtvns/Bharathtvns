{
  "nbformat": 4,
  "nbformat_minor": 0,
  "metadata": {
    "kernelspec": {
      "language": "python",
      "display_name": "Python 3",
      "name": "python3"
    },
    "language_info": {
      "name": "python",
      "version": "3.7.10",
      "mimetype": "text/x-python",
      "codemirror_mode": {
        "name": "ipython",
        "version": 3
      },
      "pygments_lexer": "ipython3",
      "nbconvert_exporter": "python",
      "file_extension": ".py"
    },
    "colab": {
      "name": "mobile-price-classification-eda-evautation.ipynb",
      "provenance": [],
      "include_colab_link": true
    }
  },
  "cells": [
    {
      "cell_type": "markdown",
      "metadata": {
        "id": "view-in-github",
        "colab_type": "text"
      },
      "source": [
        "<a href=\"https://colab.research.google.com/github/Bharathtvns/Bharathtvns/blob/main/mobile_price_classification_eda_evautation.ipynb\" target=\"_parent\"><img src=\"https://colab.research.google.com/assets/colab-badge.svg\" alt=\"Open In Colab\"/></a>"
      ]
    },
    {
      "cell_type": "code",
      "metadata": {
        "_uuid": "8f2839f25d086af736a60e9eeb907d3b93b6e0e5",
        "_cell_guid": "b1076dfc-b9ad-4769-8c92-a6c4dae69d19",
        "execution": {
          "iopub.status.busy": "2021-08-20T15:27:35.098557Z",
          "iopub.execute_input": "2021-08-20T15:27:35.098950Z",
          "iopub.status.idle": "2021-08-20T15:27:35.112201Z",
          "shell.execute_reply.started": "2021-08-20T15:27:35.098906Z",
          "shell.execute_reply": "2021-08-20T15:27:35.111223Z"
        },
        "trusted": true,
        "id": "lH6TDoT9S9ZX"
      },
      "source": [
        "import numpy as np\n",
        "import pandas as pd\n",
        "import matplotlib.pyplot as plt\n",
        "import seaborn as sns\n",
        "import warnings\n",
        "warnings.filterwarnings('ignore')\n",
        "%matplotlib inline\n",
        "\n",
        "import tensorflow.keras as keras\n",
        "from sklearn.decomposition import PCA\n",
        "from sklearn.decomposition import LatentDirichletAllocation as LDA\n",
        "from sklearn.model_selection import train_test_split\n",
        "from tensorflow.keras.models import Sequential\n",
        "from tensorflow.keras.layers import Dense\n",
        "from tqdm import tqdm\n",
        "from keras.layers import Dropout"
      ],
      "execution_count": 1,
      "outputs": []
    },
    {
      "cell_type": "code",
      "metadata": {
        "execution": {
          "iopub.status.busy": "2021-08-20T15:27:37.809950Z",
          "iopub.execute_input": "2021-08-20T15:27:37.810317Z",
          "iopub.status.idle": "2021-08-20T15:27:37.831131Z",
          "shell.execute_reply.started": "2021-08-20T15:27:37.810277Z",
          "shell.execute_reply": "2021-08-20T15:27:37.830235Z"
        },
        "trusted": true,
        "colab": {
          "base_uri": "https://localhost:8080/",
          "height": 398
        },
        "id": "RvzZFZnHS9Zc",
        "outputId": "3af9c3d0-5a03-416c-feb6-918917e6339c"
      },
      "source": [
        "train = pd.read_csv('/kaggle/input/mobile-price-classification/train.csv')\n",
        "test = pd.read_csv('/kaggle/input/mobile-price-classification/test.csv')"
      ],
      "execution_count": 2,
      "outputs": [
        {
          "output_type": "error",
          "ename": "FileNotFoundError",
          "evalue": "ignored",
          "traceback": [
            "\u001b[0;31m---------------------------------------------------------------------------\u001b[0m",
            "\u001b[0;31mFileNotFoundError\u001b[0m                         Traceback (most recent call last)",
            "\u001b[0;32m<ipython-input-2-dc36a25ee36c>\u001b[0m in \u001b[0;36m<module>\u001b[0;34m()\u001b[0m\n\u001b[0;32m----> 1\u001b[0;31m \u001b[0mtrain\u001b[0m \u001b[0;34m=\u001b[0m \u001b[0mpd\u001b[0m\u001b[0;34m.\u001b[0m\u001b[0mread_csv\u001b[0m\u001b[0;34m(\u001b[0m\u001b[0;34m'/kaggle/input/mobile-price-classification/train.csv'\u001b[0m\u001b[0;34m)\u001b[0m\u001b[0;34m\u001b[0m\u001b[0;34m\u001b[0m\u001b[0m\n\u001b[0m\u001b[1;32m      2\u001b[0m \u001b[0mtest\u001b[0m \u001b[0;34m=\u001b[0m \u001b[0mpd\u001b[0m\u001b[0;34m.\u001b[0m\u001b[0mread_csv\u001b[0m\u001b[0;34m(\u001b[0m\u001b[0;34m'/kaggle/input/mobile-price-classification/test.csv'\u001b[0m\u001b[0;34m)\u001b[0m\u001b[0;34m\u001b[0m\u001b[0;34m\u001b[0m\u001b[0m\n",
            "\u001b[0;32m/usr/local/lib/python3.7/dist-packages/pandas/io/parsers.py\u001b[0m in \u001b[0;36mread_csv\u001b[0;34m(filepath_or_buffer, sep, delimiter, header, names, index_col, usecols, squeeze, prefix, mangle_dupe_cols, dtype, engine, converters, true_values, false_values, skipinitialspace, skiprows, skipfooter, nrows, na_values, keep_default_na, na_filter, verbose, skip_blank_lines, parse_dates, infer_datetime_format, keep_date_col, date_parser, dayfirst, cache_dates, iterator, chunksize, compression, thousands, decimal, lineterminator, quotechar, quoting, doublequote, escapechar, comment, encoding, dialect, error_bad_lines, warn_bad_lines, delim_whitespace, low_memory, memory_map, float_precision)\u001b[0m\n\u001b[1;32m    686\u001b[0m     )\n\u001b[1;32m    687\u001b[0m \u001b[0;34m\u001b[0m\u001b[0m\n\u001b[0;32m--> 688\u001b[0;31m     \u001b[0;32mreturn\u001b[0m \u001b[0m_read\u001b[0m\u001b[0;34m(\u001b[0m\u001b[0mfilepath_or_buffer\u001b[0m\u001b[0;34m,\u001b[0m \u001b[0mkwds\u001b[0m\u001b[0;34m)\u001b[0m\u001b[0;34m\u001b[0m\u001b[0;34m\u001b[0m\u001b[0m\n\u001b[0m\u001b[1;32m    689\u001b[0m \u001b[0;34m\u001b[0m\u001b[0m\n\u001b[1;32m    690\u001b[0m \u001b[0;34m\u001b[0m\u001b[0m\n",
            "\u001b[0;32m/usr/local/lib/python3.7/dist-packages/pandas/io/parsers.py\u001b[0m in \u001b[0;36m_read\u001b[0;34m(filepath_or_buffer, kwds)\u001b[0m\n\u001b[1;32m    452\u001b[0m \u001b[0;34m\u001b[0m\u001b[0m\n\u001b[1;32m    453\u001b[0m     \u001b[0;31m# Create the parser.\u001b[0m\u001b[0;34m\u001b[0m\u001b[0;34m\u001b[0m\u001b[0;34m\u001b[0m\u001b[0m\n\u001b[0;32m--> 454\u001b[0;31m     \u001b[0mparser\u001b[0m \u001b[0;34m=\u001b[0m \u001b[0mTextFileReader\u001b[0m\u001b[0;34m(\u001b[0m\u001b[0mfp_or_buf\u001b[0m\u001b[0;34m,\u001b[0m \u001b[0;34m**\u001b[0m\u001b[0mkwds\u001b[0m\u001b[0;34m)\u001b[0m\u001b[0;34m\u001b[0m\u001b[0;34m\u001b[0m\u001b[0m\n\u001b[0m\u001b[1;32m    455\u001b[0m \u001b[0;34m\u001b[0m\u001b[0m\n\u001b[1;32m    456\u001b[0m     \u001b[0;32mif\u001b[0m \u001b[0mchunksize\u001b[0m \u001b[0;32mor\u001b[0m \u001b[0miterator\u001b[0m\u001b[0;34m:\u001b[0m\u001b[0;34m\u001b[0m\u001b[0;34m\u001b[0m\u001b[0m\n",
            "\u001b[0;32m/usr/local/lib/python3.7/dist-packages/pandas/io/parsers.py\u001b[0m in \u001b[0;36m__init__\u001b[0;34m(self, f, engine, **kwds)\u001b[0m\n\u001b[1;32m    946\u001b[0m             \u001b[0mself\u001b[0m\u001b[0;34m.\u001b[0m\u001b[0moptions\u001b[0m\u001b[0;34m[\u001b[0m\u001b[0;34m\"has_index_names\"\u001b[0m\u001b[0;34m]\u001b[0m \u001b[0;34m=\u001b[0m \u001b[0mkwds\u001b[0m\u001b[0;34m[\u001b[0m\u001b[0;34m\"has_index_names\"\u001b[0m\u001b[0;34m]\u001b[0m\u001b[0;34m\u001b[0m\u001b[0;34m\u001b[0m\u001b[0m\n\u001b[1;32m    947\u001b[0m \u001b[0;34m\u001b[0m\u001b[0m\n\u001b[0;32m--> 948\u001b[0;31m         \u001b[0mself\u001b[0m\u001b[0;34m.\u001b[0m\u001b[0m_make_engine\u001b[0m\u001b[0;34m(\u001b[0m\u001b[0mself\u001b[0m\u001b[0;34m.\u001b[0m\u001b[0mengine\u001b[0m\u001b[0;34m)\u001b[0m\u001b[0;34m\u001b[0m\u001b[0;34m\u001b[0m\u001b[0m\n\u001b[0m\u001b[1;32m    949\u001b[0m \u001b[0;34m\u001b[0m\u001b[0m\n\u001b[1;32m    950\u001b[0m     \u001b[0;32mdef\u001b[0m \u001b[0mclose\u001b[0m\u001b[0;34m(\u001b[0m\u001b[0mself\u001b[0m\u001b[0;34m)\u001b[0m\u001b[0;34m:\u001b[0m\u001b[0;34m\u001b[0m\u001b[0;34m\u001b[0m\u001b[0m\n",
            "\u001b[0;32m/usr/local/lib/python3.7/dist-packages/pandas/io/parsers.py\u001b[0m in \u001b[0;36m_make_engine\u001b[0;34m(self, engine)\u001b[0m\n\u001b[1;32m   1178\u001b[0m     \u001b[0;32mdef\u001b[0m \u001b[0m_make_engine\u001b[0m\u001b[0;34m(\u001b[0m\u001b[0mself\u001b[0m\u001b[0;34m,\u001b[0m \u001b[0mengine\u001b[0m\u001b[0;34m=\u001b[0m\u001b[0;34m\"c\"\u001b[0m\u001b[0;34m)\u001b[0m\u001b[0;34m:\u001b[0m\u001b[0;34m\u001b[0m\u001b[0;34m\u001b[0m\u001b[0m\n\u001b[1;32m   1179\u001b[0m         \u001b[0;32mif\u001b[0m \u001b[0mengine\u001b[0m \u001b[0;34m==\u001b[0m \u001b[0;34m\"c\"\u001b[0m\u001b[0;34m:\u001b[0m\u001b[0;34m\u001b[0m\u001b[0;34m\u001b[0m\u001b[0m\n\u001b[0;32m-> 1180\u001b[0;31m             \u001b[0mself\u001b[0m\u001b[0;34m.\u001b[0m\u001b[0m_engine\u001b[0m \u001b[0;34m=\u001b[0m \u001b[0mCParserWrapper\u001b[0m\u001b[0;34m(\u001b[0m\u001b[0mself\u001b[0m\u001b[0;34m.\u001b[0m\u001b[0mf\u001b[0m\u001b[0;34m,\u001b[0m \u001b[0;34m**\u001b[0m\u001b[0mself\u001b[0m\u001b[0;34m.\u001b[0m\u001b[0moptions\u001b[0m\u001b[0;34m)\u001b[0m\u001b[0;34m\u001b[0m\u001b[0;34m\u001b[0m\u001b[0m\n\u001b[0m\u001b[1;32m   1181\u001b[0m         \u001b[0;32melse\u001b[0m\u001b[0;34m:\u001b[0m\u001b[0;34m\u001b[0m\u001b[0;34m\u001b[0m\u001b[0m\n\u001b[1;32m   1182\u001b[0m             \u001b[0;32mif\u001b[0m \u001b[0mengine\u001b[0m \u001b[0;34m==\u001b[0m \u001b[0;34m\"python\"\u001b[0m\u001b[0;34m:\u001b[0m\u001b[0;34m\u001b[0m\u001b[0;34m\u001b[0m\u001b[0m\n",
            "\u001b[0;32m/usr/local/lib/python3.7/dist-packages/pandas/io/parsers.py\u001b[0m in \u001b[0;36m__init__\u001b[0;34m(self, src, **kwds)\u001b[0m\n\u001b[1;32m   2008\u001b[0m         \u001b[0mkwds\u001b[0m\u001b[0;34m[\u001b[0m\u001b[0;34m\"usecols\"\u001b[0m\u001b[0;34m]\u001b[0m \u001b[0;34m=\u001b[0m \u001b[0mself\u001b[0m\u001b[0;34m.\u001b[0m\u001b[0musecols\u001b[0m\u001b[0;34m\u001b[0m\u001b[0;34m\u001b[0m\u001b[0m\n\u001b[1;32m   2009\u001b[0m \u001b[0;34m\u001b[0m\u001b[0m\n\u001b[0;32m-> 2010\u001b[0;31m         \u001b[0mself\u001b[0m\u001b[0;34m.\u001b[0m\u001b[0m_reader\u001b[0m \u001b[0;34m=\u001b[0m \u001b[0mparsers\u001b[0m\u001b[0;34m.\u001b[0m\u001b[0mTextReader\u001b[0m\u001b[0;34m(\u001b[0m\u001b[0msrc\u001b[0m\u001b[0;34m,\u001b[0m \u001b[0;34m**\u001b[0m\u001b[0mkwds\u001b[0m\u001b[0;34m)\u001b[0m\u001b[0;34m\u001b[0m\u001b[0;34m\u001b[0m\u001b[0m\n\u001b[0m\u001b[1;32m   2011\u001b[0m         \u001b[0mself\u001b[0m\u001b[0;34m.\u001b[0m\u001b[0munnamed_cols\u001b[0m \u001b[0;34m=\u001b[0m \u001b[0mself\u001b[0m\u001b[0;34m.\u001b[0m\u001b[0m_reader\u001b[0m\u001b[0;34m.\u001b[0m\u001b[0munnamed_cols\u001b[0m\u001b[0;34m\u001b[0m\u001b[0;34m\u001b[0m\u001b[0m\n\u001b[1;32m   2012\u001b[0m \u001b[0;34m\u001b[0m\u001b[0m\n",
            "\u001b[0;32mpandas/_libs/parsers.pyx\u001b[0m in \u001b[0;36mpandas._libs.parsers.TextReader.__cinit__\u001b[0;34m()\u001b[0m\n",
            "\u001b[0;32mpandas/_libs/parsers.pyx\u001b[0m in \u001b[0;36mpandas._libs.parsers.TextReader._setup_parser_source\u001b[0;34m()\u001b[0m\n",
            "\u001b[0;31mFileNotFoundError\u001b[0m: [Errno 2] No such file or directory: '/kaggle/input/mobile-price-classification/train.csv'"
          ]
        }
      ]
    },
    {
      "cell_type": "code",
      "metadata": {
        "execution": {
          "iopub.status.busy": "2021-08-20T15:27:39.576029Z",
          "iopub.execute_input": "2021-08-20T15:27:39.576420Z",
          "iopub.status.idle": "2021-08-20T15:27:39.598370Z",
          "shell.execute_reply.started": "2021-08-20T15:27:39.576387Z",
          "shell.execute_reply": "2021-08-20T15:27:39.597233Z"
        },
        "trusted": true,
        "id": "E57mjwzUS9Zd"
      },
      "source": [
        "train.head()\n"
      ],
      "execution_count": null,
      "outputs": []
    },
    {
      "cell_type": "code",
      "metadata": {
        "execution": {
          "iopub.status.busy": "2021-08-20T15:18:11.843175Z",
          "iopub.execute_input": "2021-08-20T15:18:11.843543Z",
          "iopub.status.idle": "2021-08-20T15:18:11.851552Z",
          "shell.execute_reply.started": "2021-08-20T15:18:11.843504Z",
          "shell.execute_reply": "2021-08-20T15:18:11.850612Z"
        },
        "trusted": true,
        "id": "wBB2eISUS9Zg"
      },
      "source": [
        "train.shape"
      ],
      "execution_count": null,
      "outputs": []
    },
    {
      "cell_type": "code",
      "metadata": {
        "execution": {
          "iopub.status.busy": "2021-08-20T15:18:11.852869Z",
          "iopub.execute_input": "2021-08-20T15:18:11.853281Z",
          "iopub.status.idle": "2021-08-20T15:18:11.862334Z",
          "shell.execute_reply.started": "2021-08-20T15:18:11.853254Z",
          "shell.execute_reply": "2021-08-20T15:18:11.861579Z"
        },
        "trusted": true,
        "id": "9zgwYp09S9Zh"
      },
      "source": [
        "train.columns"
      ],
      "execution_count": null,
      "outputs": []
    },
    {
      "cell_type": "code",
      "metadata": {
        "execution": {
          "iopub.status.busy": "2021-08-20T15:18:11.863471Z",
          "iopub.execute_input": "2021-08-20T15:18:11.863793Z",
          "iopub.status.idle": "2021-08-20T15:18:11.882315Z",
          "shell.execute_reply.started": "2021-08-20T15:18:11.863768Z",
          "shell.execute_reply": "2021-08-20T15:18:11.881477Z"
        },
        "trusted": true,
        "id": "vHwEWr9qS9Zi"
      },
      "source": [
        "train.info()"
      ],
      "execution_count": null,
      "outputs": []
    },
    {
      "cell_type": "code",
      "metadata": {
        "execution": {
          "iopub.status.busy": "2021-08-20T15:18:11.883381Z",
          "iopub.execute_input": "2021-08-20T15:18:11.883635Z",
          "iopub.status.idle": "2021-08-20T15:18:11.949626Z",
          "shell.execute_reply.started": "2021-08-20T15:18:11.883611Z",
          "shell.execute_reply": "2021-08-20T15:18:11.948836Z"
        },
        "trusted": true,
        "id": "YhRGo8XcS9Zj"
      },
      "source": [
        "train.describe()"
      ],
      "execution_count": null,
      "outputs": []
    },
    {
      "cell_type": "markdown",
      "metadata": {
        "id": "EkObSevkS9Zj"
      },
      "source": [
        "# **To check the duplicated values**"
      ]
    },
    {
      "cell_type": "code",
      "metadata": {
        "execution": {
          "iopub.status.busy": "2021-08-20T15:18:11.95171Z",
          "iopub.execute_input": "2021-08-20T15:18:11.951988Z",
          "iopub.status.idle": "2021-08-20T15:18:11.963Z",
          "shell.execute_reply.started": "2021-08-20T15:18:11.951961Z",
          "shell.execute_reply": "2021-08-20T15:18:11.962089Z"
        },
        "trusted": true,
        "id": "18GZh5GES9Zk"
      },
      "source": [
        "duplicates=train.duplicated()\n",
        "duplicates"
      ],
      "execution_count": null,
      "outputs": []
    },
    {
      "cell_type": "code",
      "metadata": {
        "execution": {
          "iopub.status.busy": "2021-08-20T15:18:11.964949Z",
          "iopub.execute_input": "2021-08-20T15:18:11.965268Z",
          "iopub.status.idle": "2021-08-20T15:18:11.97091Z",
          "shell.execute_reply.started": "2021-08-20T15:18:11.96524Z",
          "shell.execute_reply": "2021-08-20T15:18:11.969937Z"
        },
        "trusted": true,
        "id": "y0CNeqSaS9Zl"
      },
      "source": [
        "duplicates.sum()"
      ],
      "execution_count": null,
      "outputs": []
    },
    {
      "cell_type": "markdown",
      "metadata": {
        "id": "fBMvI_DKS9Zm"
      },
      "source": [
        "**Hence there are no duplicate values**"
      ]
    },
    {
      "cell_type": "markdown",
      "metadata": {
        "id": "HidVpNpbS9Zm"
      },
      "source": [
        "# Cheking for Missing values"
      ]
    },
    {
      "cell_type": "code",
      "metadata": {
        "execution": {
          "iopub.status.busy": "2021-08-20T15:18:11.972181Z",
          "iopub.execute_input": "2021-08-20T15:18:11.972689Z",
          "iopub.status.idle": "2021-08-20T15:18:12.005784Z",
          "shell.execute_reply.started": "2021-08-20T15:18:11.972651Z",
          "shell.execute_reply": "2021-08-20T15:18:12.004757Z"
        },
        "trusted": true,
        "id": "J9YBMYWvS9Zm"
      },
      "source": [
        "train.isnull()\n"
      ],
      "execution_count": null,
      "outputs": []
    },
    {
      "cell_type": "code",
      "metadata": {
        "execution": {
          "iopub.status.busy": "2021-08-20T15:18:12.006945Z",
          "iopub.execute_input": "2021-08-20T15:18:12.007211Z",
          "iopub.status.idle": "2021-08-20T15:18:12.01476Z",
          "shell.execute_reply.started": "2021-08-20T15:18:12.007185Z",
          "shell.execute_reply": "2021-08-20T15:18:12.013659Z"
        },
        "trusted": true,
        "id": "Gd4EeevkS9Zn"
      },
      "source": [
        "train.isnull().sum()\n"
      ],
      "execution_count": null,
      "outputs": []
    },
    {
      "cell_type": "markdown",
      "metadata": {
        "id": "cawlHSPBS9Zn"
      },
      "source": [
        "**Hence there are no missing values**"
      ]
    },
    {
      "cell_type": "code",
      "metadata": {
        "execution": {
          "iopub.status.busy": "2021-08-20T15:27:48.602925Z",
          "iopub.execute_input": "2021-08-20T15:27:48.603285Z",
          "iopub.status.idle": "2021-08-20T15:27:48.619382Z",
          "shell.execute_reply.started": "2021-08-20T15:27:48.603253Z",
          "shell.execute_reply": "2021-08-20T15:27:48.618400Z"
        },
        "trusted": true,
        "id": "ij_j0mCAS9Zo"
      },
      "source": [
        "cat_data=train[['blue', 'dual_sim', 'four_g','three_g',\n",
        "       'touch_screen', 'wifi', 'price_range']]\n",
        "cat_data"
      ],
      "execution_count": null,
      "outputs": []
    },
    {
      "cell_type": "code",
      "metadata": {
        "execution": {
          "iopub.status.busy": "2021-08-20T15:27:52.615002Z",
          "iopub.execute_input": "2021-08-20T15:27:52.615375Z",
          "iopub.status.idle": "2021-08-20T15:27:52.641193Z",
          "shell.execute_reply.started": "2021-08-20T15:27:52.615342Z",
          "shell.execute_reply": "2021-08-20T15:27:52.640245Z"
        },
        "trusted": true,
        "id": "LclQISHNS9Zo"
      },
      "source": [
        "num_data=train.drop(['blue', 'dual_sim', 'four_g',\n",
        "                     'three_g','touch_screen', 'wifi', 'price_range'],axis=1)\n",
        "num_data"
      ],
      "execution_count": null,
      "outputs": []
    },
    {
      "cell_type": "code",
      "metadata": {
        "execution": {
          "iopub.status.busy": "2021-08-20T15:18:12.061355Z",
          "iopub.execute_input": "2021-08-20T15:18:12.061843Z",
          "iopub.status.idle": "2021-08-20T15:18:14.106109Z",
          "shell.execute_reply.started": "2021-08-20T15:18:12.0618Z",
          "shell.execute_reply": "2021-08-20T15:18:14.105197Z"
        },
        "trusted": true,
        "id": "BX6D11h1S9Zp"
      },
      "source": [
        "for column in num_data.columns:\n",
        "    plt.hist(num_data[column])\n",
        "    plt.title(column)\n",
        "    plt.show()"
      ],
      "execution_count": null,
      "outputs": []
    },
    {
      "cell_type": "code",
      "metadata": {
        "execution": {
          "iopub.status.busy": "2021-08-20T15:18:14.107185Z",
          "iopub.execute_input": "2021-08-20T15:18:14.107445Z",
          "iopub.status.idle": "2021-08-20T15:18:14.877916Z",
          "shell.execute_reply.started": "2021-08-20T15:18:14.107419Z",
          "shell.execute_reply": "2021-08-20T15:18:14.876866Z"
        },
        "trusted": true,
        "id": "hp75LVh0S9Zp"
      },
      "source": [
        "for cat_column in cat_data.columns:\n",
        "    sns.barplot(cat_data[cat_column].value_counts().index,cat_data[cat_column].value_counts())\n",
        "    plt.title(cat_column)\n",
        "    plt.show()"
      ],
      "execution_count": null,
      "outputs": []
    },
    {
      "cell_type": "markdown",
      "metadata": {
        "id": "AUceONOIS9Zq"
      },
      "source": [
        "Checking for the outliers"
      ]
    },
    {
      "cell_type": "code",
      "metadata": {
        "execution": {
          "iopub.status.busy": "2021-08-20T15:18:14.879091Z",
          "iopub.execute_input": "2021-08-20T15:18:14.879362Z",
          "iopub.status.idle": "2021-08-20T15:18:18.320064Z",
          "shell.execute_reply.started": "2021-08-20T15:18:14.879337Z",
          "shell.execute_reply": "2021-08-20T15:18:18.318967Z"
        },
        "trusted": true,
        "id": "QsM5Zv_xS9Zq"
      },
      "source": [
        "plt.figure(figsize = (20, 10))\n",
        "x = 1 \n",
        "\n",
        "for column in train.columns :\n",
        "    plt.subplot(7, 3, x)\n",
        "    sns.boxplot(train[column])\n",
        "    x+= 1\n",
        "plt.tight_layout()"
      ],
      "execution_count": null,
      "outputs": []
    },
    {
      "cell_type": "code",
      "metadata": {
        "execution": {
          "iopub.status.busy": "2021-08-20T15:18:18.321482Z",
          "iopub.execute_input": "2021-08-20T15:18:18.321859Z",
          "iopub.status.idle": "2021-08-20T15:18:18.989244Z",
          "shell.execute_reply.started": "2021-08-20T15:18:18.321811Z",
          "shell.execute_reply": "2021-08-20T15:18:18.988285Z"
        },
        "trusted": true,
        "id": "Nqwyn3yXS9Zq"
      },
      "source": [
        "corrmat=train.corr()\n",
        "f,ax=plt.subplots(figsize=(12,9))\n",
        "sns.heatmap(corrmat,vmax=0.8,square=True)"
      ],
      "execution_count": null,
      "outputs": []
    },
    {
      "cell_type": "code",
      "metadata": {
        "execution": {
          "iopub.status.busy": "2021-08-20T15:18:18.990653Z",
          "iopub.execute_input": "2021-08-20T15:18:18.991211Z",
          "iopub.status.idle": "2021-08-20T15:18:19.073052Z",
          "shell.execute_reply.started": "2021-08-20T15:18:18.991168Z",
          "shell.execute_reply": "2021-08-20T15:18:19.072204Z"
        },
        "trusted": true,
        "id": "gNX1FyE8S9Zr"
      },
      "source": [
        "corrmat.style.background_gradient(cmap=\"viridis\").set_precision(2)"
      ],
      "execution_count": null,
      "outputs": []
    },
    {
      "cell_type": "code",
      "metadata": {
        "execution": {
          "iopub.status.busy": "2021-08-20T15:18:19.074337Z",
          "iopub.execute_input": "2021-08-20T15:18:19.074832Z",
          "iopub.status.idle": "2021-08-20T15:18:19.367593Z",
          "shell.execute_reply.started": "2021-08-20T15:18:19.074794Z",
          "shell.execute_reply": "2021-08-20T15:18:19.366581Z"
        },
        "trusted": true,
        "id": "meF5A_YaS9Zr"
      },
      "source": [
        "sns.catplot(x=\"price_range\",y=\"battery_power\",data=train)\n",
        "\n"
      ],
      "execution_count": null,
      "outputs": []
    },
    {
      "cell_type": "code",
      "metadata": {
        "execution": {
          "iopub.status.busy": "2021-08-20T15:18:19.370513Z",
          "iopub.execute_input": "2021-08-20T15:18:19.370775Z",
          "iopub.status.idle": "2021-08-20T15:18:19.656698Z",
          "shell.execute_reply.started": "2021-08-20T15:18:19.370748Z",
          "shell.execute_reply": "2021-08-20T15:18:19.656027Z"
        },
        "trusted": true,
        "id": "hQQpHqh-S9Zr"
      },
      "source": [
        "sns.catplot(x=\"price_range\",y=\"ram\",data=train)\n"
      ],
      "execution_count": null,
      "outputs": []
    },
    {
      "cell_type": "code",
      "metadata": {
        "execution": {
          "iopub.status.busy": "2021-08-20T15:18:19.657584Z",
          "iopub.execute_input": "2021-08-20T15:18:19.657954Z",
          "iopub.status.idle": "2021-08-20T15:18:21.302087Z",
          "shell.execute_reply.started": "2021-08-20T15:18:19.657898Z",
          "shell.execute_reply": "2021-08-20T15:18:21.301219Z"
        },
        "trusted": true,
        "id": "CvNmxqu6S9Zr"
      },
      "source": [
        "fig,axes=plt.subplots(2,3,figsize=(18,10))\n",
        "cat=['blue','dual_sim','four_g','three_g','touch_screen','wifi']\n",
        "k=0\n",
        "for i in range(2):\n",
        "    for j in range(3):\n",
        "        sns.boxplot(ax=axes[i,j],x=\"price_range\",y=\"ram\",data=train,hue=cat[k])\n",
        "        k+=1"
      ],
      "execution_count": null,
      "outputs": []
    },
    {
      "cell_type": "code",
      "metadata": {
        "execution": {
          "iopub.status.busy": "2021-08-20T15:18:21.303394Z",
          "iopub.execute_input": "2021-08-20T15:18:21.303768Z",
          "iopub.status.idle": "2021-08-20T15:18:22.693132Z",
          "shell.execute_reply.started": "2021-08-20T15:18:21.303727Z",
          "shell.execute_reply": "2021-08-20T15:18:22.692203Z"
        },
        "trusted": true,
        "id": "SMId1NhAS9Zs"
      },
      "source": [
        "fig,axes=plt.subplots(2,4,figsize=(18,10))\n",
        "imp=['battery_power','px_height','px_width','ram','fc','pc','int_memory','mobile_wt']\n",
        "k=0\n",
        "for i in range(2):\n",
        "    for j in range(4):\n",
        "        sns.boxplot(ax=axes[i][j],x=\"price_range\",y=imp[k],data=train)\n",
        "        k+=1"
      ],
      "execution_count": null,
      "outputs": []
    },
    {
      "cell_type": "code",
      "metadata": {
        "execution": {
          "iopub.status.busy": "2021-08-20T15:18:22.697177Z",
          "iopub.execute_input": "2021-08-20T15:18:22.697551Z",
          "iopub.status.idle": "2021-08-20T15:19:58.524121Z",
          "shell.execute_reply.started": "2021-08-20T15:18:22.697523Z",
          "shell.execute_reply": "2021-08-20T15:19:58.523235Z"
        },
        "trusted": true,
        "id": "hgfwHMpbS9Zs"
      },
      "source": [
        "g=sns.PairGrid(data=train)\n",
        "g.map(plt.scatter)"
      ],
      "execution_count": null,
      "outputs": []
    },
    {
      "cell_type": "code",
      "metadata": {
        "execution": {
          "iopub.status.busy": "2021-08-20T15:19:58.525774Z",
          "iopub.execute_input": "2021-08-20T15:19:58.526027Z",
          "iopub.status.idle": "2021-08-20T15:20:17.345544Z",
          "shell.execute_reply.started": "2021-08-20T15:19:58.526002Z",
          "shell.execute_reply": "2021-08-20T15:20:17.343179Z"
        },
        "trusted": true,
        "id": "Jbshd1yaS9Zs"
      },
      "source": [
        "g=sns.pairplot(data=train[['ram','battery_power','px_height','px_width','pc','fc','price_range']],hue='price_range',palette='gist_earth_r')"
      ],
      "execution_count": null,
      "outputs": []
    },
    {
      "cell_type": "code",
      "metadata": {
        "execution": {
          "iopub.status.busy": "2021-08-20T15:20:17.346725Z",
          "iopub.execute_input": "2021-08-20T15:20:17.347206Z",
          "iopub.status.idle": "2021-08-20T15:20:20.712182Z",
          "shell.execute_reply.started": "2021-08-20T15:20:17.347172Z",
          "shell.execute_reply": "2021-08-20T15:20:20.711514Z"
        },
        "trusted": true,
        "id": "6ZngheZUS9Zs"
      },
      "source": [
        "fig, ax = plt.subplots(5,3,figsize=(45,45))\n",
        "for i, j in zip(num_data,ax.flatten()):\n",
        "    sns.distplot(train[i],ax=j)\n",
        "plt.show()"
      ],
      "execution_count": null,
      "outputs": []
    },
    {
      "cell_type": "code",
      "metadata": {
        "execution": {
          "iopub.status.busy": "2021-08-20T15:20:20.71341Z",
          "iopub.execute_input": "2021-08-20T15:20:20.713878Z",
          "iopub.status.idle": "2021-08-20T15:20:22.77663Z",
          "shell.execute_reply.started": "2021-08-20T15:20:20.713847Z",
          "shell.execute_reply": "2021-08-20T15:20:22.776009Z"
        },
        "trusted": true,
        "id": "oyvCleXuS9Zt"
      },
      "source": [
        "fig, ax = plt.subplots(4,4,figsize=(40,40))\n",
        "for i, j in zip(num_data,ax.flatten()):\n",
        "    sns.boxplot(train[i],ax=j)\n",
        "plt.show()\n"
      ],
      "execution_count": null,
      "outputs": []
    },
    {
      "cell_type": "markdown",
      "metadata": {
        "id": "Px2jzkNmS9Zt"
      },
      "source": [
        "**Lets Do point plots to specify the relation between numerical data and price range**"
      ]
    },
    {
      "cell_type": "code",
      "metadata": {
        "execution": {
          "iopub.status.busy": "2021-08-20T15:20:22.777667Z",
          "iopub.execute_input": "2021-08-20T15:20:22.777914Z",
          "iopub.status.idle": "2021-08-20T15:20:23.059151Z",
          "shell.execute_reply.started": "2021-08-20T15:20:22.77789Z",
          "shell.execute_reply": "2021-08-20T15:20:23.058087Z"
        },
        "trusted": true,
        "id": "CVeoRyokS9Zt"
      },
      "source": [
        "fig=plt.figure(figsize=(10,5))\n",
        "sns.pointplot(y=\"ram\", x=\"price_range\", data=train)"
      ],
      "execution_count": null,
      "outputs": []
    },
    {
      "cell_type": "code",
      "metadata": {
        "execution": {
          "iopub.status.busy": "2021-08-20T15:20:23.060244Z",
          "iopub.execute_input": "2021-08-20T15:20:23.060488Z",
          "iopub.status.idle": "2021-08-20T15:20:23.342282Z",
          "shell.execute_reply.started": "2021-08-20T15:20:23.060464Z",
          "shell.execute_reply": "2021-08-20T15:20:23.341311Z"
        },
        "trusted": true,
        "id": "gH8u5sjZS9Zt"
      },
      "source": [
        "fig=plt.figure(figsize=(10,5))\n",
        "sns.pointplot(y=\"battery_power\", x=\"price_range\", data=train)"
      ],
      "execution_count": null,
      "outputs": []
    },
    {
      "cell_type": "code",
      "metadata": {
        "execution": {
          "iopub.status.busy": "2021-08-20T15:20:23.343689Z",
          "iopub.execute_input": "2021-08-20T15:20:23.344008Z",
          "iopub.status.idle": "2021-08-20T15:20:23.628263Z",
          "shell.execute_reply.started": "2021-08-20T15:20:23.343969Z",
          "shell.execute_reply": "2021-08-20T15:20:23.627469Z"
        },
        "trusted": true,
        "id": "P78RS2yoS9Zt"
      },
      "source": [
        "fig=plt.figure(figsize=(10,5))\n",
        "sns.pointplot(y=\"px_height\", x=\"price_range\", data=train)"
      ],
      "execution_count": null,
      "outputs": []
    },
    {
      "cell_type": "code",
      "metadata": {
        "execution": {
          "iopub.status.busy": "2021-08-20T15:20:23.62934Z",
          "iopub.execute_input": "2021-08-20T15:20:23.629592Z",
          "iopub.status.idle": "2021-08-20T15:20:23.906432Z",
          "shell.execute_reply.started": "2021-08-20T15:20:23.62956Z",
          "shell.execute_reply": "2021-08-20T15:20:23.905699Z"
        },
        "trusted": true,
        "id": "Y3gbAP35S9Zt"
      },
      "source": [
        "fig=plt.figure(figsize=(10,5))\n",
        "sns.pointplot(y=\"px_width\", x=\"price_range\", data=train)"
      ],
      "execution_count": null,
      "outputs": []
    },
    {
      "cell_type": "code",
      "metadata": {
        "execution": {
          "iopub.status.busy": "2021-08-20T15:20:23.907513Z",
          "iopub.execute_input": "2021-08-20T15:20:23.907768Z",
          "iopub.status.idle": "2021-08-20T15:20:24.354634Z",
          "shell.execute_reply.started": "2021-08-20T15:20:23.907737Z",
          "shell.execute_reply": "2021-08-20T15:20:24.353991Z"
        },
        "trusted": true,
        "id": "pHyuxVNTS9Zu"
      },
      "source": [
        "pie,ax=plt.subplots(1,2,figsize=(15,15))\n",
        "train['n_cores'].value_counts().plot.pie(autopct='%1.2f%%',ax=ax[0])\n",
        "train['pc'].value_counts().plot.pie(autopct='%1.2f%%',ax=ax[1])\n",
        "ax[0].set_title('n_cores')\n",
        "ax[1].set_title('pc')\n",
        "\n",
        "plt.show()\n"
      ],
      "execution_count": null,
      "outputs": []
    },
    {
      "cell_type": "code",
      "metadata": {
        "execution": {
          "iopub.status.busy": "2021-08-20T15:20:24.355635Z",
          "iopub.execute_input": "2021-08-20T15:20:24.355901Z",
          "iopub.status.idle": "2021-08-20T15:20:24.551629Z",
          "shell.execute_reply.started": "2021-08-20T15:20:24.355874Z",
          "shell.execute_reply": "2021-08-20T15:20:24.550691Z"
        },
        "trusted": true,
        "id": "qc-cddQeS9Zu"
      },
      "source": [
        "labels = [\"Supported\",'Not supported']\n",
        "f,ax=plt.subplots(1,2,figsize=(15,15))\n",
        "train['three_g'].value_counts().plot.pie(autopct='%1.2f%%',ax=ax[0], labels=labels)\n",
        "train['four_g'].value_counts().plot.pie(autopct='%1.2f%%',ax=ax[1], labels=labels)\n",
        "ax[0].set_title('three_g ')\n",
        "ax[1].set_title(' four_g ')\n",
        "plt.show()"
      ],
      "execution_count": null,
      "outputs": []
    },
    {
      "cell_type": "code",
      "metadata": {
        "execution": {
          "iopub.status.busy": "2021-08-20T15:20:24.55306Z",
          "iopub.execute_input": "2021-08-20T15:20:24.553467Z",
          "iopub.status.idle": "2021-08-20T15:20:24.753232Z",
          "shell.execute_reply.started": "2021-08-20T15:20:24.553428Z",
          "shell.execute_reply": "2021-08-20T15:20:24.752225Z"
        },
        "trusted": true,
        "id": "GZhiDFwsS9Zu"
      },
      "source": [
        "labels = [\"Supported\",'Not supported']\n",
        "f,ax=plt.subplots(1,2,figsize=(15,15))\n",
        "train['touch_screen'].value_counts().plot.pie(autopct='%1.2f%%',ax=ax[0], labels=labels)\n",
        "train['dual_sim'].value_counts().plot.pie(autopct='%1.2f%%',ax=ax[1], labels=labels)\n",
        "ax[0].set_title('touch_screen ')\n",
        "ax[1].set_title(' dual_sim ')\n",
        "plt.show()"
      ],
      "execution_count": null,
      "outputs": []
    },
    {
      "cell_type": "code",
      "metadata": {
        "execution": {
          "iopub.status.busy": "2021-08-20T15:20:24.754322Z",
          "iopub.execute_input": "2021-08-20T15:20:24.754567Z",
          "iopub.status.idle": "2021-08-20T15:20:24.934591Z",
          "shell.execute_reply.started": "2021-08-20T15:20:24.754543Z",
          "shell.execute_reply": "2021-08-20T15:20:24.933637Z"
        },
        "trusted": true,
        "id": "CSJnoiX0S9Zu"
      },
      "source": [
        "labels = [\"supported\",'Not supported']\n",
        "f,ax=plt.subplots(1,2,figsize=(12,12))\n",
        "train['wifi'].value_counts().plot.pie(autopct='%1.2f%%',ax=ax[0], labels=labels)\n",
        "train['blue'].value_counts().plot.pie(autopct='%1.2f%%',ax=ax[1], labels=labels)\n",
        "ax[0].set_title('wifi ')\n",
        "ax[1].set_title(' bluetooth ')\n",
        "plt.show()"
      ],
      "execution_count": null,
      "outputs": []
    },
    {
      "cell_type": "code",
      "metadata": {
        "execution": {
          "iopub.status.busy": "2021-08-20T15:28:07.048607Z",
          "iopub.execute_input": "2021-08-20T15:28:07.048924Z",
          "iopub.status.idle": "2021-08-20T15:28:07.054262Z",
          "shell.execute_reply.started": "2021-08-20T15:28:07.048898Z",
          "shell.execute_reply": "2021-08-20T15:28:07.053243Z"
        },
        "trusted": true,
        "id": "CqBzGkyzS9Zv"
      },
      "source": [
        "X = train.drop(['price_range'], axis=1)\n",
        "Y = train['price_range']"
      ],
      "execution_count": null,
      "outputs": []
    },
    {
      "cell_type": "code",
      "metadata": {
        "execution": {
          "iopub.status.busy": "2021-08-20T15:28:09.820790Z",
          "iopub.execute_input": "2021-08-20T15:28:09.821155Z",
          "iopub.status.idle": "2021-08-20T15:28:09.828009Z",
          "shell.execute_reply.started": "2021-08-20T15:28:09.821111Z",
          "shell.execute_reply": "2021-08-20T15:28:09.826961Z"
        },
        "trusted": true,
        "id": "aIlsTJuZS9Zv"
      },
      "source": [
        "X_train, X_test, Y_train, Y_test = train_test_split(X , Y,test_size=0.25,random_state=52)"
      ],
      "execution_count": null,
      "outputs": []
    },
    {
      "cell_type": "code",
      "metadata": {
        "id": "MPW-QjqQS9Zv"
      },
      "source": [
        ""
      ],
      "execution_count": null,
      "outputs": []
    },
    {
      "cell_type": "markdown",
      "metadata": {
        "id": "DF587fxvS9Zv"
      },
      "source": [
        "PART 2-Evaluation\n"
      ]
    },
    {
      "cell_type": "markdown",
      "metadata": {
        "id": "QYV7StPJS9Zv"
      },
      "source": [
        "Model1-ANN(metric-accuracy)"
      ]
    },
    {
      "cell_type": "code",
      "metadata": {
        "execution": {
          "iopub.status.busy": "2021-08-20T15:44:24.104174Z",
          "iopub.execute_input": "2021-08-20T15:44:24.104513Z",
          "iopub.status.idle": "2021-08-20T15:44:24.147503Z",
          "shell.execute_reply.started": "2021-08-20T15:44:24.104473Z",
          "shell.execute_reply": "2021-08-20T15:44:24.146817Z"
        },
        "trusted": true,
        "id": "JTFzVV_mS9Zw"
      },
      "source": [
        "\n",
        "model = Sequential()\n",
        "model.add(Dense(units = 16, activation='relu', input_shape=(20,)))\n",
        "\n",
        "model.add(Dense(units = 16, activation='relu'))\n",
        "\n",
        "model.add(Dense(units = 8, activation='relu'))\n",
        "model.add(Dense(units = 4, activation = 'softmax'))\n",
        "model.compile(loss='sparse_categorical_crossentropy', optimizer='adam', metrics=['accuracy'])\n"
      ],
      "execution_count": null,
      "outputs": []
    },
    {
      "cell_type": "code",
      "metadata": {
        "execution": {
          "iopub.status.busy": "2021-08-20T15:44:28.720030Z",
          "iopub.execute_input": "2021-08-20T15:44:28.720434Z",
          "iopub.status.idle": "2021-08-20T15:45:09.900839Z",
          "shell.execute_reply.started": "2021-08-20T15:44:28.720402Z",
          "shell.execute_reply": "2021-08-20T15:45:09.899888Z"
        },
        "trusted": true,
        "id": "DdeI_oQZS9Zw"
      },
      "source": [
        "history = model.fit(X_train, Y_train, epochs=300, verbose=1, validation_data=(X_test, Y_test))\n",
        "\n",
        "y_pred_seq =model.predict(X_test)"
      ],
      "execution_count": null,
      "outputs": []
    },
    {
      "cell_type": "code",
      "metadata": {
        "execution": {
          "iopub.status.busy": "2021-08-20T15:45:52.181872Z",
          "iopub.execute_input": "2021-08-20T15:45:52.182255Z",
          "iopub.status.idle": "2021-08-20T15:45:52.190399Z",
          "shell.execute_reply.started": "2021-08-20T15:45:52.182222Z",
          "shell.execute_reply": "2021-08-20T15:45:52.189365Z"
        },
        "trusted": true,
        "id": "-mrZRXO_S9Zw"
      },
      "source": [
        "\n",
        "\n",
        "\n",
        "\n",
        "\n",
        "\n",
        "test = []\n",
        "for i in range(len(y_pred_seq)):\n",
        "    test.append(np.argmax(y_pred_seq[i]))\n",
        "# accuracy of the model\n",
        "from sklearn.metrics import accuracy_score\n",
        "acc = accuracy_score(Y_test,test)\n",
        "print(\"Accuracy of ANN  = \" + str(acc*100))"
      ],
      "execution_count": null,
      "outputs": []
    },
    {
      "cell_type": "code",
      "metadata": {
        "trusted": true,
        "id": "Jap1vJR4S9Zw"
      },
      "source": [
        ""
      ],
      "execution_count": null,
      "outputs": []
    },
    {
      "cell_type": "markdown",
      "metadata": {
        "id": "711w-VawS9Zw"
      },
      "source": [
        "Model2-MLPClassifier(metric-accuracy)"
      ]
    },
    {
      "cell_type": "code",
      "metadata": {
        "execution": {
          "iopub.status.busy": "2021-08-20T15:42:52.149181Z",
          "iopub.execute_input": "2021-08-20T15:42:52.149538Z",
          "iopub.status.idle": "2021-08-20T15:42:54.183674Z",
          "shell.execute_reply.started": "2021-08-20T15:42:52.149509Z",
          "shell.execute_reply": "2021-08-20T15:42:54.182480Z"
        },
        "trusted": true,
        "id": "_yNZiOfwS9Zx"
      },
      "source": [
        "from sklearn import metrics\n",
        "from sklearn.neural_network import MLPClassifier\n",
        "from sklearn import preprocessing\n",
        "from sklearn.preprocessing import StandardScaler\n",
        "from sklearn.pipeline import Pipeline\n",
        "mlp = MLPClassifier(solver='adam', alpha=1e-5,hidden_layer_sizes=(70,70,70), random_state=1)\n",
        "pipe = Pipeline([('scaler', StandardScaler()), ('mlp', mlp)])\n",
        "pipe.fit(X_train,Y_train)\n",
        "y_pred_MLP =pipe.predict(X_test)\n",
        "print(\"Accuracy for MLPClassifier:\",metrics.accuracy_score(Y_test, y_pred_MLP)*100)"
      ],
      "execution_count": null,
      "outputs": []
    },
    {
      "cell_type": "code",
      "metadata": {
        "execution": {
          "iopub.status.busy": "2021-08-20T15:28:23.287974Z",
          "iopub.execute_input": "2021-08-20T15:28:23.288306Z",
          "iopub.status.idle": "2021-08-20T15:28:23.321885Z",
          "shell.execute_reply.started": "2021-08-20T15:28:23.288278Z",
          "shell.execute_reply": "2021-08-20T15:28:23.320208Z"
        },
        "trusted": true,
        "id": "xjIaPeFHS9Zx"
      },
      "source": [
        ""
      ],
      "execution_count": null,
      "outputs": []
    },
    {
      "cell_type": "code",
      "metadata": {
        "trusted": true,
        "id": "5HaM76oYS9Zx"
      },
      "source": [
        "\n",
        "\n"
      ],
      "execution_count": null,
      "outputs": []
    },
    {
      "cell_type": "markdown",
      "metadata": {
        "id": "5ajkyz9wS9Zx"
      },
      "source": [
        "Model3-RNN(LSTM)-metric-accuracy\n"
      ]
    },
    {
      "cell_type": "code",
      "metadata": {
        "execution": {
          "iopub.status.busy": "2021-08-20T15:30:58.140391Z",
          "iopub.execute_input": "2021-08-20T15:30:58.140726Z",
          "iopub.status.idle": "2021-08-20T15:39:32.729356Z",
          "shell.execute_reply.started": "2021-08-20T15:30:58.140699Z",
          "shell.execute_reply": "2021-08-20T15:39:32.728206Z"
        },
        "trusted": true,
        "id": "uKXCtklUS9Zx"
      },
      "source": [
        "import tensorflow\n",
        "from tensorflow.keras.layers import LSTM\n",
        "from keras.layers import Dense, Activation, Flatten\n",
        "model = tensorflow.keras.Sequential([\n",
        "    tensorflow.keras.layers.Embedding(10000000, 16, input_length=20),\n",
        "    tensorflow.keras.layers.Bidirectional(tensorflow.keras.layers.LSTM(32,input_shape=(1500,20),recurrent_dropout=0.2,return_sequences=True)),\n",
        "    tensorflow.keras.layers.Flatten() ,\n",
        "    tensorflow.keras.layers.Dense(24, activation='relu'),\n",
        "    tensorflow.keras.layers.Dense(4, activation='softmax')\n",
        "])\n",
        "model.compile(loss='sparse_categorical_crossentropy',optimizer='adam',metrics=['accuracy'])\n",
        "\n",
        "\n",
        "history_2 = model.fit(X_train, Y_train, epochs=5, batch_size=32,verbose=1, validation_data=(X_test, Y_test))\n"
      ],
      "execution_count": null,
      "outputs": []
    },
    {
      "cell_type": "code",
      "metadata": {
        "execution": {
          "iopub.status.busy": "2021-08-20T15:43:47.396284Z",
          "iopub.execute_input": "2021-08-20T15:43:47.396902Z",
          "iopub.status.idle": "2021-08-20T15:43:47.513106Z",
          "shell.execute_reply.started": "2021-08-20T15:43:47.396855Z",
          "shell.execute_reply": "2021-08-20T15:43:47.512036Z"
        },
        "trusted": true,
        "id": "yWbfso55S9Zx"
      },
      "source": [
        "y_pred_LSTM=model.predict(X_test)\n",
        "test = []\n",
        "for i in range(len(y_pred_seq)):\n",
        "    test.append(np.argmax(y_pred_seq[i]))\n",
        "# accuracy of the model\n",
        "from sklearn.metrics import accuracy_score\n",
        "acc = accuracy_score(Y_test,test)\n",
        "print(\"Accuracy of LSTM model is = \" + str(acc*100))"
      ],
      "execution_count": null,
      "outputs": []
    },
    {
      "cell_type": "code",
      "metadata": {
        "trusted": true,
        "id": "QesujDgbS9Zy"
      },
      "source": [
        ""
      ],
      "execution_count": null,
      "outputs": []
    },
    {
      "cell_type": "markdown",
      "metadata": {
        "id": "KxatMk7xS9Zy"
      },
      "source": [
        "Model4-RandomForestClassifier\n",
        "Model5-LightGBM Classifier\n",
        "Model6-XGBClassifier\n",
        "Model7-Support Vector Machine"
      ]
    },
    {
      "cell_type": "code",
      "metadata": {
        "trusted": true,
        "id": "SavPdavPS9Zy"
      },
      "source": [
        "from sklearn.ensemble import RandomForestClassifier\n",
        "import lightgbm as lgb\n",
        "\n",
        "\n",
        "from xgboost import XGBClassifier"
      ],
      "execution_count": null,
      "outputs": []
    },
    {
      "cell_type": "code",
      "metadata": {
        "trusted": true,
        "id": "RPw03Z7NS9Zy"
      },
      "source": [
        "X_train.shape"
      ],
      "execution_count": null,
      "outputs": []
    },
    {
      "cell_type": "code",
      "metadata": {
        "trusted": true,
        "id": "OiJ6An_3S9Zy"
      },
      "source": [
        "lgb_clf = lgb.LGBMClassifier()\n",
        "lgb_clf.fit(X_train, Y_train)\n",
        "\n",
        "\n",
        "y_pred_lgb = lgb_clf.predict(X_test)\n",
        "\n",
        "\n",
        "RFG_model=RandomForestClassifier()\n",
        "RFG_model.fit(X_train,Y_train)\n",
        "y_pred_RFG = RFG_model.predict(X_test)\n",
        "XGB_model=XGBClassifier(colsample_bylevel=0.9,colsample_bytree=0.8,gamma=0.99,max_depth=5,min_child_weight=1,n_estimators=10,nthread=4,random_state=2,silent=True)\n",
        "XGB_model.fit(X_train,Y_train)\n",
        "y_pred_XGB = XGB_model.predict(X_test)"
      ],
      "execution_count": null,
      "outputs": []
    },
    {
      "cell_type": "code",
      "metadata": {
        "trusted": true,
        "id": "aQBoFgyMS9Zz"
      },
      "source": [
        "from sklearn import svm\n",
        "\n",
        "\n",
        "svm_clf = svm.SVC(kernel='linear') \n",
        "\n",
        "svm_clf.fit(X_train, Y_train)\n",
        "\n",
        "y_predsvm = svm_clf.predict(X_test)"
      ],
      "execution_count": null,
      "outputs": []
    },
    {
      "cell_type": "code",
      "metadata": {
        "trusted": true,
        "id": "X9k5EDakS9Zz"
      },
      "source": [
        "from sklearn import metrics\n",
        "\n",
        "print(\"Accuracy for support-vector machines:\",metrics.accuracy_score(Y_test, y_predsvm))\n",
        "\n",
        "print(\"Precesion for support-vector machines:\",metrics.precision_score(Y_test, y_predsvm,pos_label='positive',average='micro'))\n",
        "\n",
        "print(\"Recall for support-vector machines:\",metrics.recall_score(Y_test, y_predsvm,pos_label='positive'\n",
        "                                           ,average='micro'))\n",
        "print(\"Accuracy for LightGBM Classifier:\",metrics.accuracy_score(Y_test, y_pred_lgb))\n",
        "\n",
        "print(\"Precesion for LightGBM Classifier:\",metrics.precision_score(Y_test, y_pred_lgb,pos_label='positive'\n",
        "                                           ,average='micro'))\n",
        "\n",
        "print(\"Recall for LightGBM Classifier:\",metrics.recall_score(Y_test, y_pred_lgb,pos_label='positive'\n",
        "                                          , average='micro'))\n",
        "print(\"Accuracy for Random Forest Classifier:\",metrics.accuracy_score(Y_test, y_pred_RFG))\n",
        "\n",
        "print(\"Precesion for Random Forest Classifier:\",metrics.precision_score(Y_test, y_pred_RFG,pos_label='positive'\n",
        "                                           ,average='micro'))\n",
        "\n",
        "print(\"Recall for Random Forest Classifier:\",metrics.recall_score(Y_test, y_pred_RFG,pos_label='positive'\n",
        "                                           ,average='micro'))\n",
        "print(\"Accuracy for XGBClassifier :\",metrics.accuracy_score(Y_test, y_pred_XGB))\n",
        "\n",
        "print(\"Precesion for XGBClassifier:\",metrics.precision_score(Y_test, y_pred_XGB,pos_label='positive'\n",
        "                                           ,average='micro'))\n",
        "\n",
        "print(\"Recall for XGBClassifier:\",metrics.recall_score(Y_test, y_pred_XGB,pos_label='positive'\n",
        "                                           ,average='micro'))"
      ],
      "execution_count": null,
      "outputs": []
    },
    {
      "cell_type": "code",
      "metadata": {
        "id": "_IlGw4W9S9Zz"
      },
      "source": [
        ""
      ],
      "execution_count": null,
      "outputs": []
    }
  ]
}